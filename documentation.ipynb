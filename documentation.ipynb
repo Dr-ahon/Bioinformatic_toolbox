{
 "cells": [
  {
   "cell_type": "markdown",
   "metadata": {
    "collapsed": true,
    "pycharm": {
     "name": "#%% md\n"
    }
   },
   "source": [
    "## Processing FASTA files\n",
    "\n",
    "Program processing FASTA files is in toolbox/fasta file. It is in a form of commandline app accepting following parameters: \\n\n",
    "**-f / --file** for specifying the input file\n",
    "**-d / --desc** for printing the description of given molecule\n",
    "**-q / --seq** for printing the sequence of given molecule\n",
    "**-l / --length** for printing the length of the sequence of given molecule\n",
    "**-s / --subseq** for printing a subsequence of given sequence defined by start and end index\n"
   ]
  },
  {
   "cell_type": "code",
   "execution_count": null,
   "outputs": [],
   "source": [
    "import SA\n",
    "SA.align(\"data/seq1\", \"data/seq2\")\n",
    "\n",
    "\n",
    "\n"
   ],
   "metadata": {
    "collapsed": false,
    "pycharm": {
     "name": "#%%\n"
    }
   }
  }
 ],
 "metadata": {
  "kernelspec": {
   "display_name": "Python 3",
   "language": "python",
   "name": "python3"
  },
  "language_info": {
   "codemirror_mode": {
    "name": "ipython",
    "version": 2
   },
   "file_extension": ".py",
   "mimetype": "text/x-python",
   "name": "python",
   "nbconvert_exporter": "python",
   "pygments_lexer": "ipython2",
   "version": "2.7.6"
  }
 },
 "nbformat": 4,
 "nbformat_minor": 0
}